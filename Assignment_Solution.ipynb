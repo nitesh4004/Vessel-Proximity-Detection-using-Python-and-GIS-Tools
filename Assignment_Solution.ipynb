{
 "cells": [
  {
   "cell_type": "code",
   "execution_count": 15,
   "id": "43399118",
   "metadata": {},
   "outputs": [],
   "source": [
    "import numpy as np\n",
    "import pandas as pd"
   ]
  },
  {
   "cell_type": "code",
   "execution_count": 16,
   "id": "e7f8c879",
   "metadata": {},
   "outputs": [],
   "source": [
    "import geopandas as gpd"
   ]
  },
  {
   "cell_type": "code",
   "execution_count": 17,
   "id": "dc462fb8",
   "metadata": {},
   "outputs": [],
   "source": [
    "from shapely.geometry import Point"
   ]
  },
  {
   "cell_type": "code",
   "execution_count": 9,
   "id": "0c3a593e",
   "metadata": {},
   "outputs": [],
   "source": [
    "# Load the CSV file\n",
    "file_path = 'sample_data.csv'\n",
    "df = pd.read_csv(file_path)\n",
    "\n",
    "# Create a GeoDataFrame\n",
    "geometry = [Point(xy) for xy in zip(df['lon'], df['lat'])]\n",
    "gdf = gpd.GeoDataFrame(df, geometry=geometry)"
   ]
  },
  {
   "cell_type": "code",
   "execution_count": 6,
   "id": "dc4d0e90",
   "metadata": {},
   "outputs": [],
   "source": [
    "## Proximity Detection Using Spatial Index\n",
    "## Use a spatial index for efficient proximity detection."
   ]
  },
  {
   "cell_type": "code",
   "execution_count": 10,
   "id": "94ee3e83",
   "metadata": {},
   "outputs": [],
   "source": [
    "# Define the threshold distance (in kilometers)\n",
    "threshold_distance = 0.5\n",
    "\n",
    "# Convert threshold to radians\n",
    "threshold_radians = threshold_distance / 6371  # Earth's radius in kilometers\n",
    "\n",
    "# Build spatial index\n",
    "spatial_index = gdf.sindex\n",
    "\n",
    "# Function to find proximity events\n",
    "def find_proximity_events(gdf, threshold_radians):\n",
    "    proximity_events = []\n",
    "    for idx, row in gdf.iterrows():\n",
    "        point = row['geometry']\n",
    "        possible_matches_index = list(spatial_index.intersection(point.buffer(threshold_radians).bounds))\n",
    "        possible_matches = gdf.iloc[possible_matches_index]\n",
    "        precise_matches = possible_matches[possible_matches.distance(point) < threshold_radians]\n",
    "        for _, match in precise_matches.iterrows():\n",
    "            if row['mmsi'] != match['mmsi']:\n",
    "                proximity_events.append((row['mmsi'], match['mmsi'], row['timestamp']))\n",
    "    return proximity_events\n",
    "\n",
    "proximity_events = find_proximity_events(gdf, threshold_radians)"
   ]
  },
  {
   "cell_type": "code",
   "execution_count": 11,
   "id": "52294e51",
   "metadata": {},
   "outputs": [],
   "source": [
    "## Output Format\n",
    "## Create a DataFrame with the proximity events and export it to a CSV file."
   ]
  },
  {
   "cell_type": "code",
   "execution_count": 13,
   "id": "88d6c581",
   "metadata": {},
   "outputs": [],
   "source": [
    "# Convert proximity events to a DataFrame\n",
    "proximity_df = pd.DataFrame(proximity_events, columns=['mmsi', 'vessel_proximity', 'timestamp'])\n",
    "\n",
    "# Export the proximity events DataFrame to a CSV file\n",
    "output_file_path = 'proximity_events.csv'\n",
    "proximity_df.to_csv(output_file_path, index=False)\n"
   ]
  },
  {
   "cell_type": "code",
   "execution_count": 18,
   "id": "1c2f7373",
   "metadata": {},
   "outputs": [
    {
     "data": {
      "image/png": "[encoded data removed]",
      "text/plain": [
       "<Figure size 1000x1000 with 1 Axes>"
      ]
     },
     "metadata": {},
     "output_type": "display_data"
    }
   ],
   "source": [
    "import matplotlib.pyplot as plt\n",
    "\n",
    "# Plot vessel positions\n",
    "fig, ax = plt.subplots(figsize=(10, 10))\n",
    "gdf.plot(ax=ax, color='blue', markersize=5, label='Vessel Position')\n",
    "\n",
    "# Plot proximity events\n",
    "for event in proximity_events:\n",
    "    vessel1 = gdf[gdf['mmsi'] == event[0]].geometry.values[0]\n",
    "    vessel2 = gdf[gdf['mmsi'] == event[1]].geometry.values[0]\n",
    "    ax.plot([vessel1.x, vessel2.x], [vessel1.y, vessel2.y], color='red', linewidth=1)\n",
    "\n",
    "plt.title('Vessel Positions and Proximity Events')\n",
    "plt.xlabel('Longitude')\n",
    "plt.ylabel('Latitude')\n",
    "plt.legend(loc='upper right')\n",
    "plt.show()\n"
   ]
  },
  {
   "cell_type": "code",
   "execution_count": 20,
   "id": "41683c3c",
   "metadata": {},
   "outputs": [
    {
     "data": {
      "text/html": [
       "<div>\n",
       "<style scoped>\n",
       "    .dataframe tbody tr th:only-of-type {\n",
       "        vertical-align: middle;\n",
       "    }\n",
       "\n",
       "    .dataframe tbody tr th {\n",
       "        vertical-align: top;\n",
       "    }\n",
       "\n",
       "    .dataframe thead th {\n",
       "        text-align: right;\n",
       "    }\n",
       "</style>\n",
       "<table border=\"1\" class=\"dataframe\">\n",
       "  <thead>\n",
       "    <tr style=\"text-align: right;\">\n",
       "      <th></th>\n",
       "      <th>mmsi</th>\n",
       "      <th>vessel_proximity</th>\n",
       "      <th>timestamp</th>\n",
       "    </tr>\n",
       "  </thead>\n",
       "  <tbody>\n",
       "    <tr>\n",
       "      <th>0</th>\n",
       "      <td>538008084</td>\n",
       "      <td>538008064</td>\n",
       "      <td>2023-03-19 23:30:00+00</td>\n",
       "    </tr>\n",
       "    <tr>\n",
       "      <th>1</th>\n",
       "      <td>563014650</td>\n",
       "      <td>564780000</td>\n",
       "      <td>2023-03-14 01:30:00+00</td>\n",
       "    </tr>\n",
       "    <tr>\n",
       "      <th>2</th>\n",
       "      <td>538008084</td>\n",
       "      <td>538008064</td>\n",
       "      <td>2023-03-17 15:30:00+00</td>\n",
       "    </tr>\n",
       "    <tr>\n",
       "      <th>3</th>\n",
       "      <td>518998309</td>\n",
       "      <td>529123000</td>\n",
       "      <td>2023-03-21 18:30:00+00</td>\n",
       "    </tr>\n",
       "    <tr>\n",
       "      <th>4</th>\n",
       "      <td>538008084</td>\n",
       "      <td>538008064</td>\n",
       "      <td>2023-03-18 14:30:00+00</td>\n",
       "    </tr>\n",
       "  </tbody>\n",
       "</table>\n",
       "</div>"
      ],
      "text/plain": [
       "        mmsi  vessel_proximity               timestamp\n",
       "0  538008084         538008064  2023-03-19 23:30:00+00\n",
       "1  563014650         564780000  2023-03-14 01:30:00+00\n",
       "2  538008084         538008064  2023-03-17 15:30:00+00\n",
       "3  518998309         529123000  2023-03-21 18:30:00+00\n",
       "4  538008084         538008064  2023-03-18 14:30:00+00"
      ]
     },
     "execution_count": 20,
     "metadata": {},
     "output_type": "execute_result"
    }
   ],
   "source": [
    "proximity_df.head()    ## Output that are mentioned in assignment pdf"
   ]
  },
  {
   "cell_type": "code",
   "execution_count": null,
   "id": "d3fa5804",
   "metadata": {},
   "outputs": [],
   "source": []
  }
 ],
 "metadata": {
  "kernelspec": {
   "display_name": "Python 3 (ipykernel)",
   "language": "python",
   "name": "python3"
  },
  "language_info": {
   "codemirror_mode": {
    "name": "ipython",
    "version": 3
   },
   "file_extension": ".py",
   "mimetype": "text/x-python",
   "name": "python",
   "nbconvert_exporter": "python",
   "pygments_lexer": "ipython3",
   "version": "3.11.7"
  }
 },
 "nbformat": 4,
 "nbformat_minor": 5
}
